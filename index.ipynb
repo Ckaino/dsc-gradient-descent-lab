{
 "cells": [
  {
   "cell_type": "markdown",
   "metadata": {},
   "source": [
    "# Gradient Descent - Lab\n",
    "\n",
    "## Introduction\n",
    "\n",
    "In this lab, you'll continue to formalize your knowledge of gradient descent by coding the algorithm yourself. In the upcoming labs, you'll apply similar procedures to implement logistic regression on your own.\n",
    "\n",
    "\n",
    "## Objectives\n",
    "\n",
    "In this lab you will: \n",
    "\n",
    "\n",
    "- Implement gradient descent from scratch to minimize OLS\n"
   ]
  },
  {
   "cell_type": "markdown",
   "metadata": {},
   "source": [
    "## Use gradient descent to minimize OLS\n",
    "\n",
    "To practice gradient descent, you'll investigate a simple regression case in which you're looking to minimize the Residual Sum of Squares (RSS) between the predictions and the actual values. Remember that this is referred to as Ordinary Least Squares (OLS) regression. You'll compare two simplistic models and use gradient descent to improve upon these initial models.\n",
    "\n",
    "\n",
    "## Load the dataset\n",
    "\n",
    "- Import the file `'movie_data.xlsx'` using Pandas \n",
    "- Print the first five rows of the data \n",
    "\n",
    "> You can use the `read_excel()` function to import an Excel file. "
   ]
  },
  {
   "cell_type": "code",
   "execution_count": 3,
   "metadata": {},
   "outputs": [
    {
     "data": {
      "text/html": [
       "<div>\n",
       "<style scoped>\n",
       "    .dataframe tbody tr th:only-of-type {\n",
       "        vertical-align: middle;\n",
       "    }\n",
       "\n",
       "    .dataframe tbody tr th {\n",
       "        vertical-align: top;\n",
       "    }\n",
       "\n",
       "    .dataframe thead th {\n",
       "        text-align: right;\n",
       "    }\n",
       "</style>\n",
       "<table border=\"1\" class=\"dataframe\">\n",
       "  <thead>\n",
       "    <tr style=\"text-align: right;\">\n",
       "      <th></th>\n",
       "      <th>budget</th>\n",
       "      <th>domgross</th>\n",
       "      <th>title</th>\n",
       "    </tr>\n",
       "  </thead>\n",
       "  <tbody>\n",
       "    <tr>\n",
       "      <th>0</th>\n",
       "      <td>13000000</td>\n",
       "      <td>25682380</td>\n",
       "      <td>21 &amp;amp; Over</td>\n",
       "    </tr>\n",
       "    <tr>\n",
       "      <th>1</th>\n",
       "      <td>45658735</td>\n",
       "      <td>13414714</td>\n",
       "      <td>Dredd 3D</td>\n",
       "    </tr>\n",
       "    <tr>\n",
       "      <th>2</th>\n",
       "      <td>20000000</td>\n",
       "      <td>53107035</td>\n",
       "      <td>12 Years a Slave</td>\n",
       "    </tr>\n",
       "    <tr>\n",
       "      <th>3</th>\n",
       "      <td>61000000</td>\n",
       "      <td>75612460</td>\n",
       "      <td>2 Guns</td>\n",
       "    </tr>\n",
       "    <tr>\n",
       "      <th>4</th>\n",
       "      <td>40000000</td>\n",
       "      <td>95020213</td>\n",
       "      <td>42</td>\n",
       "    </tr>\n",
       "  </tbody>\n",
       "</table>\n",
       "</div>"
      ],
      "text/plain": [
       "     budget  domgross             title\n",
       "0  13000000  25682380     21 &amp; Over\n",
       "1  45658735  13414714          Dredd 3D\n",
       "2  20000000  53107035  12 Years a Slave\n",
       "3  61000000  75612460            2 Guns\n",
       "4  40000000  95020213                42"
      ]
     },
     "execution_count": 3,
     "metadata": {},
     "output_type": "execute_result"
    }
   ],
   "source": [
    "# Import the data\n",
    "import pandas as pd\n",
    "df = pd.read_excel('movie_data.xlsx')\n",
    "\n",
    "# Print the first five rows of the data\n",
    "df.head(5)"
   ]
  },
  {
   "cell_type": "markdown",
   "metadata": {},
   "source": [
    "## Two simplistic models\n",
    "\n",
    "Imagine someone is attempting to predict the domestic gross sales of a movie based on the movie's budget, or at least further investigate how these two quantities are related. Two models are suggested and need to be compared.  \n",
    "The two models are:  \n",
    "\n",
    "$\\text{domgross} = 1.575 \\cdot \\text{budget}$  \n",
    "$\\text{domgross} = 1.331 \\cdot \\text{budget}$  \n",
    "\n",
    "\n",
    "Here's a graph of the two models along with the actual data:"
   ]
  },
  {
   "cell_type": "code",
   "execution_count": 4,
   "metadata": {},
   "outputs": [
    {
     "data": {
      "image/png": "[encoded data removed]",
      "text/plain": [
       "<Figure size 432x288 with 1 Axes>"
      ]
     },
     "metadata": {
      "needs_background": "light"
     },
     "output_type": "display_data"
    }
   ],
   "source": [
    "import numpy as np\n",
    "import matplotlib.pyplot as plt\n",
    "%matplotlib inline\n",
    "\n",
    "x = np.linspace(start=df['budget'].min(), stop=df['budget'].max(), num=10**5)\n",
    "plt.scatter(x, 1.575*x, label='Mean Ratio Model') # Model 1\n",
    "plt.scatter(x, 1.331*x, label='Median Ratio Model') # Model 2\n",
    "plt.scatter(df['budget'], df['domgross'], label='Actual Data Points')\n",
    "plt.title('Gross Domestic Sales vs. Budget', fontsize=18)\n",
    "plt.xlabel('Budget', fontsize=16)\n",
    "plt.ylabel('Gross Domestic Sales', fontsize=16)\n",
    "plt.legend(bbox_to_anchor=(1, 1))\n",
    "plt.show()"
   ]
  },
  {
   "cell_type": "markdown",
   "metadata": {},
   "source": [
    "## Error/Loss functions\n",
    "\n",
    "To compare the two models (and future ones), a metric for evaluating and comparing models to each other is needed. Traditionally, this is the residual sum of squares. As such you are looking to minimize  $ \\sum(\\hat{y}-y)^2$.\n",
    "Write a function `rss()` which calculates the residual sum of squares for a simplistic model: \n",
    "\n",
    "$\\text{domgross} = m \\cdot \\text{budget}$ "
   ]
  },
  {
   "cell_type": "code",
   "execution_count": 12,
   "metadata": {},
   "outputs": [],
   "source": [
    "import numpy as np\n",
    "def rss(m, X=df['budget'], y=df['domgross']):\n",
    "    \"\"\"\n",
    "    Calculate the Residual Sum of Squares (RSS)\n",
    "    for the model: domgross = m * budget\n",
    "    \"\"\"\n",
    "    y_pred = m * budget\n",
    "    residuals = domgross - y_pred\n",
    "    rss_value = np.sum(residuals ** 2)\n",
    "    return rss_value "
   ]
  },
  {
   "cell_type": "markdown",
   "metadata": {},
   "source": [
    "## Find the RSS for the two models\n",
    "Which of the two models is better?"
   ]
  },
  {
   "cell_type": "code",
   "execution_count": 13,
   "metadata": {
    "scrolled": true
   },
   "outputs": [
    {
     "name": "stdout",
     "output_type": "stream",
     "text": [
      "RSS for model 1 (m=1): 222288260290116585\n",
      "RSS for model 2 (m=2): 409720103894263680\n",
      "Better model: Model 1 (m=1)\n"
     ]
    }
   ],
   "source": [
    "# Your code here\n",
    "\n",
    "budget = df['budget']\n",
    "domgross = df['domgross']\n",
    "\n",
    "rss_model1 = rss(1, budget, domgross)\n",
    "rss_model2 = rss(2, budget, domgross)\n",
    "\n",
    "print(\"RSS for model 1 (m=1):\", rss_model1)\n",
    "print(\"RSS for model 2 (m=2):\", rss_model2)\n",
    "\n",
    "# Compare models\n",
    "if rss_model1 < rss_model2:\n",
    "    better_model = \"Model 1 (m=1)\"\n",
    "else:\n",
    "    better_model = \"Model 2 (m=2)\"\n",
    "\n",
    "print(\"Better model:\", better_model)"
   ]
  },
  {
   "cell_type": "code",
   "execution_count": 14,
   "metadata": {},
   "outputs": [
    {
     "name": "stdout",
     "output_type": "stream",
     "text": [
      "Better model: Model 1 (m=1)\n"
     ]
    }
   ],
   "source": [
    "# Determine which model is better\n",
    "if rss_model1 < rss_model2:\n",
    "    better_model = \"Model 1 (m=1)\"\n",
    "else:\n",
    "    better_model = \"Model 2 (m=2)\"\n",
    "\n",
    "print(\"Better model:\", better_model)"
   ]
  },
  {
   "cell_type": "code",
   "execution_count": null,
   "metadata": {},
   "outputs": [],
   "source": [
    "# Your response here\n",
    "\"model 1 is better since its less than model 2\"\n",
    "\"Model 1 fits the data better than model 2.It has lower residual sum of squares\"\n"
   ]
  },
  {
   "cell_type": "markdown",
   "metadata": {},
   "source": [
    "## Gradient descent\n",
    "\n",
    "Now that you have a loss function, you can use numerical methods to find a minimum to the loss function. By minimizing the loss function, you have achieved an optimal solution according to the problem formulation. Here's the outline of gradient descent from the previous lesson:  \n",
    "\n",
    "1. Define initial parameters:\n",
    "    1. pick a starting point\n",
    "    2. pick a step size $\\alpha$ (alpha)\n",
    "    3. choose a maximum number of iterations; the algorithm will terminate after this many iterations if a minimum has yet to be found\n",
    "    4. (optionally) define a precision parameter; similar to the maximum number of iterations, this will terminate the algorithm early. For example, one might define a precision parameter of 0.00001, in which case if the change in the loss function were less than 0.00001, the algorithm would terminate. The idea is that we are very close to the bottom and further iterations would make a negligible difference \n",
    "2. Calculate the gradient at the current point (initially, the starting point)\n",
    "3. Take a step (of size alpha) in the direction of the gradient\n",
    "4. Repeat steps 2 and 3 until the maximum number of iterations is met, or the difference between two points is less then your precision parameter  \n",
    "\n",
    "To start, visualize the cost function. Plot the cost function output for a range of m values from -3 to 5."
   ]
  },
  {
   "cell_type": "code",
   "execution_count": 21,
   "metadata": {},
   "outputs": [
    {
     "data": {
      "image/png": "[encoded data removed]",
      "text/plain": [
       "<Figure size 576x360 with 1 Axes>"
      ]
     },
     "metadata": {
      "needs_background": "light"
     },
     "output_type": "display_data"
    },
    {
     "name": "stdout",
     "output_type": "stream",
     "text": [
      "Grid search approx min: m = 1.080000, RSS = 221044441980427872.00\n",
      "Analytic OLS (no intercept): m_OLS = 1.075235, RSS at m_OLS = 221039432217011104.00\n"
     ]
    }
   ],
   "source": [
    "# Your code here\n",
    "import matplotlib.pyplot as plt\n",
    "budget = df['budget'].values\n",
    "domgross = df['domgross'].values\n",
    "def rss_for_m(m, x, y):\n",
    "    \"\"\"Return RSS for slope m (model y_hat = m * x).\"\"\"\n",
    "    y_pred = m * x\n",
    "    residuals = y - y_pred\n",
    "    return np.sum(residuals ** 2)\n",
    "\n",
    "# Create m grid from -3 to 5 (inclusive)\n",
    "m_values = np.linspace(-3, 5, 401)  \n",
    "rss_values = np.array([rss_for_m(m, budget, domgross) for m in m_values])\n",
    "\n",
    "# Find grid minimum\n",
    "idx_min = np.argmin(rss_values)\n",
    "m_min_grid = m_values[idx_min]\n",
    "rss_min_grid = rss_values[idx_min]\n",
    "\n",
    "# Analytic OLS slope for model without intercept: m_OLS = sum(x*y) / sum(x^2)\n",
    "m_ols = np.sum(budget * domgross) / np.sum(budget ** 2)\n",
    "rss_at_ols = rss_for_m(m_ols, budget, domgross)\n",
    "\n",
    "# --- Plot ---\n",
    "plt.figure(figsize=(8,5))\n",
    "plt.plot(m_values, rss_values)\n",
    "plt.axvline(m_min_grid, linestyle='--', label=f'grid min m={m_min_grid:.4f}')\n",
    "plt.axvline(m_ols, linestyle=':', label=f'analytic OLS m={m_ols:.4f}')\n",
    "plt.scatter([m_min_grid, m_ols], [rss_min_grid, rss_at_ols]) \n",
    "plt.xlabel('m (slope)')\n",
    "plt.ylabel('RSS')\n",
    "plt.title('RSS vs slope m (model: domgross = m * budget)')\n",
    "plt.legend()\n",
    "plt.grid(True)\n",
    "plt.show()\n",
    "\n",
    "# Print results\n",
    "print(f\"Grid search approx min: m = {m_min_grid:.6f}, RSS = {rss_min_grid:.2f}\")\n",
    "print(f\"Analytic OLS (no intercept): m_OLS = {m_ols:.6f}, RSS at m_OLS = {rss_at_ols:.2f}\")"
   ]
  },
  {
   "cell_type": "markdown",
   "metadata": {},
   "source": [
    "As you can see, this is a simple cost function. The minimum is clearly around 1. With that, it's time to implement gradient descent in order to find the optimal value for m."
   ]
  },
  {
   "cell_type": "code",
   "execution_count": 28,
   "metadata": {},
   "outputs": [
    {
     "name": "stdout",
     "output_type": "stream",
     "text": [
      "The local minimum occurs at 0.43822661710382005\n"
     ]
    }
   ],
   "source": [
    "import numpy as np\n",
    "\n",
    "# Extract and scale data\n",
    "x = df['budget'].values\n",
    "y = df['domgross'].values\n",
    "\n",
    "# Normalize (scaling to 0–1 range)\n",
    "x_scaled = (x - np.mean(x)) / np.std(x)\n",
    "y_scaled = (y - np.mean(y)) / np.std(y)\n",
    "\n",
    "# Initialize parameters\n",
    "cur_x = 0\n",
    "alpha = 0.01          # now we can use a normal learning rate since values are small\n",
    "precision = 1e-7\n",
    "previous_step_size = 1\n",
    "max_iters = 10000\n",
    "iters = 0\n",
    "\n",
    "# Gradient descent loop (analytical)\n",
    "while previous_step_size > precision and iters < max_iters:\n",
    "    gradient = (-2) * np.sum(x_scaled * (y_scaled - cur_x * x_scaled)) / len(x_scaled)\n",
    "    new_x = cur_x - alpha * gradient\n",
    "    previous_step_size = abs(new_x - cur_x)\n",
    "    cur_x = new_x\n",
    "    iters += 1\n",
    "\n",
    "print(\"The local minimum occurs at\", cur_x)\n"
   ]
  },
  {
   "cell_type": "markdown",
   "metadata": {},
   "source": [
    "## Plot the minimum on your graph\n",
    "Replot the RSS cost curve as above. Add a red dot for the minimum of this graph using the solution from your gradient descent function above."
   ]
  },
  {
   "cell_type": "code",
   "execution_count": 32,
   "metadata": {},
   "outputs": [
    {
     "data": {
      "image/png": "[encoded data removed]",
      "text/plain": [
       "<Figure size 576x360 with 1 Axes>"
      ]
     },
     "metadata": {
      "needs_background": "light"
     },
     "output_type": "display_data"
    },
    {
     "name": "stdout",
     "output_type": "stream",
     "text": [
      "The local minimum occurs at m = 0.4382 with RSS = 24.2386\n"
     ]
    }
   ],
   "source": [
    "# Your code here\n",
    "# Extract and scale data again (to match what you used for gradient descent)\n",
    "x = df['budget'].values\n",
    "y = df['domgross'].values\n",
    "x_scaled = (x - np.mean(x)) / np.std(x)\n",
    "y_scaled = (y - np.mean(y)) / np.std(y)\n",
    "\n",
    "# Define RSS function (for scaled data)\n",
    "def rss_scaled(m):\n",
    "    y_pred = m * x_scaled\n",
    "    residuals = y_scaled - y_pred\n",
    "    return np.sum(residuals ** 2)\n",
    "\n",
    "# Range of m values for plotting the curve\n",
    "m_values = np.linspace(-3, 5, 500)\n",
    "rss_values = [rss_scaled(m) for m in m_values]\n",
    "\n",
    "# Use the m you found from gradient descent\n",
    "m_min = cur_x  # from your previous gradient descent\n",
    "rss_min = rss_scaled(m_min)\n",
    "\n",
    "# Plot the RSS curve\n",
    "plt.figure(figsize=(8,5))\n",
    "plt.plot(m_values, rss_values, label='RSS curve', color='blue')\n",
    "plt.scatter(m_min, rss_min, color='red', s=80, label=f'Minimum at m={m_min:.3f}')\n",
    "plt.title('RSS vs. Slope (m)')\n",
    "plt.xlabel('Slope (m)')\n",
    "plt.ylabel('Residual Sum of Squares (RSS)')\n",
    "plt.legend()\n",
    "plt.grid(True)\n",
    "plt.show()\n",
    "\n",
    "print(f\"The local minimum occurs at m = {m_min:.4f} with RSS = {rss_min:.4f}\")\n"
   ]
  },
  {
   "cell_type": "markdown",
   "metadata": {},
   "source": [
    "## Summary \n",
    "\n",
    "In this lab, you coded up a gradient descent algorithm from scratch! In the next lab, you'll apply this to logistic regression in order to create a full implementation yourself!"
   ]
  }
 ],
 "metadata": {
  "kernelspec": {
   "display_name": "Python 3",
   "language": "python",
   "name": "python3"
  },
  "language_info": {
   "codemirror_mode": {
    "name": "ipython",
    "version": 3
   },
   "file_extension": ".py",
   "mimetype": "text/x-python",
   "name": "python",
   "nbconvert_exporter": "python",
   "pygments_lexer": "ipython3",
   "version": "3.8.5"
  }
 },
 "nbformat": 4,
 "nbformat_minor": 2
}
